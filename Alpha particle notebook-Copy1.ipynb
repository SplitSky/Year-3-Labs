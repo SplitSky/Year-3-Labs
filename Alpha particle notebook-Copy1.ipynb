{
 "cells": [
  {
   "cell_type": "code",
   "execution_count": 14,
   "metadata": {},
   "outputs": [
    {
     "name": "stdout",
     "output_type": "stream",
     "text": [
      "[0.35, 0.35, 0.35, 0.35, 0.35, 0.35, 0.35, 0.35, 0.35, 0.35, 0.35, 0.35, 0.35, 0.35, 0.35, 0.35, 0.35, 0.35, 0.35, 0.35, 0.35, 0.35]\n"
     ]
    }
   ],
   "source": [
    "ch = [0.35,\n",
    "0.35,\n",
    "0.35,\n",
    "0.35,\n",
    "0.35,\n",
    "0.35,\n",
    "0.35,\n",
    "0.35,\n",
    "0.35,\n",
    "0.35,\n",
    "0.35,\n",
    "0.35,\n",
    "0.35,\n",
    "0.35,\n",
    "0.35,\n",
    "0.35,\n",
    "0.35,\n",
    "0.35,\n",
    "0.35,\n",
    "0.35,\n",
    "0.35,\n",
    "0.35]\n",
    "print(ch)"
   ]
  },
  {
   "cell_type": "code",
   "execution_count": 5,
   "metadata": {},
   "outputs": [
    {
     "data": {
      "image/png": "[encoded data removed]",
      "text/plain": [
       "<Figure size 432x288 with 1 Axes>"
      ]
     },
     "metadata": {
      "needs_background": "light"
     },
     "output_type": "display_data"
    },
    {
     "name": "stdout",
     "output_type": "stream",
     "text": [
      "[6.5037158  6.50299375 6.50386021 0.75551221 0.49073483 5.96708491\n",
      " 5.41413558 4.85504879 4.26332513 3.65549966 3.03633794 2.40064116\n",
      " 1.76342808 1.11820018 0.48250341 0.79183155 1.43518211 2.07716075\n",
      " 2.7124965  3.33822892 3.95320273 4.55359104]\n",
      "[0.17955283825589194, 0.1795528380727533, 0.17955283829252217, 0.17955203926092955, 0.17955203421252533, 0.17955270788325878, 0.17955258556288853, 0.1795524742854086, 0.17955237009419334, 0.17955227761037368, 0.17955219855439797, 0.17955213329797617, 0.17955208406408046, 0.1795520507152681, 0.17955203410040296, 0.17955204017153414, 0.17955206502327714, 0.17955210628024304, 0.1795521632966402, 0.17955223519011357, 0.17955232106598937, 0.17955241945917547]\n"
     ]
    }
   ],
   "source": [
    "import numpy as np\n",
    "import matplotlib.pyplot as plt\n",
    "# calibration for materials\n",
    "\n",
    "V = [88.8, 88.8, 104, 10.3, 5.72, 95.2, 85.6, 77.6, 68, 57.6, 47.6, 37, 26.6, 15.9, 5.32, 10.7, 21.4, 31.6, 42.4, 52.4, 62.4, 72.4]\n",
    "E = [5.8, 0]\n",
    "ch = [880.62, 880.52, 880.64, 84.53, 47.86, 806.3, 729.72, 652.29, 570.34, 486.16, 400.41, 312.37, 224.12, 134.76, 46.72, 89.56, 178.66, 267.57, 355.56, 442.22, 527.39, 610.54]\n",
    "Volt_err = [0.35, 0.35, 0.35, 0.35, 0.35, 0.35, 0.35, 0.35, 0.35, 0.35, 0.35, 0.35, 0.35, 0.35, 0.35, 0.35, 0.35, 0.35, 0.35, 0.35, 0.35, 0.35]\n",
    "ch_err = np.ones(len(ch)) * 10\n",
    "\n",
    "\n",
    "dif_V =  88.8 - 0.304\n",
    "dif_E = 5.8 # MeV\n",
    "m_1 = dif_E / dif_V\n",
    "m_1_err = 5/dif_V\n",
    "c_1 = m_1*0.304 * -1\n",
    "\n",
    "m_e = [m_1,0]\n",
    "c_e = [c_1, 0]\n",
    "\n",
    "#m_1 = 5.8/880.62\n",
    "#y = np.array(ch)\n",
    "#y = ch * k # scale with k\n",
    "\n",
    "# relate voltage to energy\n",
    "def Vin_Eout(V): # assuming the intercept is at (0,0)\n",
    "    return m_1*V\n",
    "\n",
    "# relate channel number to voltage\n",
    "y_weights = Volt_err\n",
    "fit_parameters, fit_errors = np.polyfit(ch, V, 1, cov=True, w=y_weights)\n",
    "\n",
    "m_v = [fit_parameters[0],fit_errors[0][0]]\n",
    "c_v = [fit_parameters[1],fit_errors[1][1]]\n",
    "\n",
    "def Chin_Vout(ch):\n",
    "    return m_v[0]*ch + c_v[0]\n",
    "\n",
    "def function(ch):\n",
    "    return Vin_Eout(Chin_Vout(ch))\n",
    "\n",
    "x = np.array(ch)\n",
    "y = function(x)\n",
    "plt.plot(x,y,\"b+\")\n",
    "plt.show()\n",
    "    \n",
    "\n",
    "def energy_error(m_e, m_v, ch, c_v, c_e):\n",
    "    # each value is an array [value, error]\n",
    "    # c is a numpy array\n",
    "    sigma_E = 0\n",
    "    sigma_E += (m_e[0]*ch[0])**2 * m_v[1]**2\n",
    "    sigma_E += (m_e[0]*m_v[0])**2 * ch[1]**2\n",
    "    sigma_E += m_e[0]**2 * c_v[1]**2\n",
    "    sigma_E = np.sqrt(sigma_E)\n",
    "    return sigma_E\n",
    "    \n",
    "    \n",
    "err_E = []\n",
    "for counter in range(0,len(ch)):\n",
    "    err_E.append(energy_error(m_e,m_v, [ch[counter],ch_err[counter]], c_v, c_e))\n",
    "\n",
    "    \n"
   ]
  },
  {
   "cell_type": "code",
   "execution_count": 21,
   "metadata": {},
   "outputs": [
    {
     "data": {
      "image/png": "[encoded data removed]",
      "text/plain": [
       "<Figure size 432x288 with 1 Axes>"
      ]
     },
     "metadata": {
      "needs_background": "light"
     },
     "output_type": "display_data"
    }
   ],
   "source": [
    "import numpy as np\n",
    "import matplotlib.pyplot as plt\n",
    "# calibration for gases\n",
    "\n",
    "V = [42.4, 50, 64, 30.8, 7.92, 6.8, 55.6, 49.6, 42.8, 34.8, 27.4, 13.8, 64, 52.8, 46.8, 38.8, 31, 0.304]\n",
    "E = [4.77, 0]\n",
    "ch = [439.7, 459.8, 440.45, 220.5, 56.14, 44.45, 399.28, 350.36, 300.7, 249.5, 197.62, 100.07, 458.83, 378.18, 333.96, 271.38, 221.4, 0]\n",
    "Volt_err = [3, 3, 1, 1, 1, 0.4, 1, 1, 1, 0.5, 0.5, 0.4, 1, 1, 1, 1, 1, 0.2]\n",
    "\n",
    "dif_V =  0.5*(42.4+50) - 0.304\n",
    "dif_E = 4.77 # MeV\n",
    "m_1 = dif_E / dif_V\n",
    "c_1 = m_1*0.304 * -1\n",
    "\n",
    "\n",
    "# relate voltage to energy\n",
    "def Vin_Eout(V):\n",
    "    return m_1*V + c_1\n",
    "\n",
    "# relate channel number to voltage\n",
    "def Chin_Vout(ch):\n",
    "    y_weights = Volt_err\n",
    "    fit_parameters, fit_errors = np.polyfit(ch, V, 1, cov=True, w=y_weights)\n",
    "    return fit_parameters[0]*ch + fit_parameters[1]\n",
    "\n",
    "def function(ch):\n",
    "    return Vin_Eout(Chin_Vout(ch))\n",
    "\n",
    "x = np.array(ch)\n",
    "y = function(x)\n",
    "plt.plot(x,y,\"b+\")\n",
    "plt.show()"
   ]
  },
  {
   "cell_type": "code",
   "execution_count": 29,
   "metadata": {},
   "outputs": [
    {
     "data": {
      "image/png": "[encoded data removed]",
      "text/plain": [
       "<Figure size 432x288 with 1 Axes>"
      ]
     },
     "metadata": {
      "needs_background": "light"
     },
     "output_type": "display_data"
    }
   ],
   "source": [
    "import numpy as np\n",
    "x = np.linspace(1,100, num=200)\n",
    "function = lambda N, Z, E, I: -3.801 * (N * Z / E) * (np.log(E) + 6.307 - np.log(I)) * 10**(-19) # eV\n",
    "\n",
    "y = function(4,2,x,20)\n",
    "plt.plot(x,y,\"+\")\n",
    "plt.show()"
   ]
  },
  {
   "cell_type": "code",
   "execution_count": 6,
   "metadata": {},
   "outputs": [
    {
     "ename": "SyntaxError",
     "evalue": "invalid syntax (<ipython-input-6-4ae2654ebfc2>, line 9)",
     "output_type": "error",
     "traceback": [
      "\u001b[1;36m  File \u001b[1;32m\"<ipython-input-6-4ae2654ebfc2>\"\u001b[1;36m, line \u001b[1;32m9\u001b[0m\n\u001b[1;33m    ch_err =\u001b[0m\n\u001b[1;37m             ^\u001b[0m\n\u001b[1;31mSyntaxError\u001b[0m\u001b[1;31m:\u001b[0m invalid syntax\n"
     ]
    }
   ],
   "source": [
    "import numpy as np\n",
    "import matplotlib.pyplot as plt\n",
    "# calibration for materials\n",
    "\n",
    "V = [88.8, 88.8, 104, 10.3, 5.72, 95.2, 85.6, 77.6, 68, 57.6, 47.6, 37, 26.6, 15.9, 5.32, 10.7, 21.4, 31.6, 42.4, 52.4, 62.4, 72.4]\n",
    "E = [5.8, 0]\n",
    "ch = [880.62, 880.52, 880.64, 84.53, 47.86, 806.3, 729.72, 652.29, 570.34, 486.16, 400.41, 312.37, 224.12, 134.76, 46.72, 89.56, 178.66, 267.57, 355.56, 442.22, 527.39, 610.54]\n",
    "Volt_err = [0.35, 0.35, 0.35, 0.35, 0.35, 0.35, 0.35, 0.35, 0.35, 0.35, 0.35, 0.35, 0.35, 0.35, 0.35, 0.35, 0.35, 0.35, 0.35, 0.35, 0.35, 0.35]\n",
    "ch_err = \n",
    "\n",
    "\n",
    "dif_V =  88.8 - 0.304\n",
    "dif_E = 5.8 # MeV\n",
    "m_1 = dif_E / dif_V\n",
    "c_1 = m_1*0.304 * -1\n",
    "\n",
    "\n",
    "#m_1 = 5.8/880.62\n",
    "#y = np.array(ch)\n",
    "#y = ch * k # scale with k\n",
    "\n",
    "# relate voltage to energy\n",
    "def Vin_Eout(V): # assuming the intercept is at (0,0)\n",
    "    return m_1*V\n",
    "\n",
    "# relate channel number to voltage\n",
    "def Chin_Vout(ch):\n",
    "    y_weights = Volt_err\n",
    "    fit_parameters, fit_errors = np.polyfit(ch, V, 1, cov=True, w=y_weights)\n",
    "    return fit_parameters[0]*ch + fit_parameters[1]\n",
    "\n",
    "def function(ch):\n",
    "    return Vin_Eout(Chin_Vout(ch))\n",
    "\n",
    "x = np.array(ch)\n",
    "y = function(x)\n",
    "plt.plot(x,y,\"b+\")\n",
    "plt.show()\n",
    "    \n"
   ]
  },
  {
   "cell_type": "code",
   "execution_count": 1,
   "metadata": {},
   "outputs": [
    {
     "ename": "NameError",
     "evalue": "name 'm_1' is not defined",
     "output_type": "error",
     "traceback": [
      "\u001b[1;31m---------------------------------------------------------------------------\u001b[0m",
      "\u001b[1;31mNameError\u001b[0m                                 Traceback (most recent call last)",
      "\u001b[1;32m<ipython-input-1-f0b4536e7e3c>\u001b[0m in \u001b[0;36m<module>\u001b[1;34m\u001b[0m\n\u001b[1;32m----> 1\u001b[1;33m \u001b[0mm_e\u001b[0m \u001b[1;33m=\u001b[0m \u001b[1;33m[\u001b[0m\u001b[0mm_1\u001b[0m\u001b[1;33m,\u001b[0m \u001b[1;36m0\u001b[0m\u001b[1;33m]\u001b[0m\u001b[1;33m\u001b[0m\u001b[1;33m\u001b[0m\u001b[0m\n\u001b[0m\u001b[0;32m      2\u001b[0m \u001b[0mc_e\u001b[0m \u001b[1;33m=\u001b[0m \u001b[1;33m[\u001b[0m\u001b[0mc_1\u001b[0m\u001b[1;33m,\u001b[0m \u001b[1;36m0\u001b[0m\u001b[1;33m]\u001b[0m\u001b[1;33m\u001b[0m\u001b[1;33m\u001b[0m\u001b[0m\n\u001b[0;32m      3\u001b[0m \u001b[0my_weights\u001b[0m \u001b[1;33m=\u001b[0m \u001b[0mVolt_err\u001b[0m\u001b[1;33m\u001b[0m\u001b[1;33m\u001b[0m\u001b[0m\n\u001b[0;32m      4\u001b[0m \u001b[0mfit_parameters\u001b[0m\u001b[1;33m,\u001b[0m \u001b[0mfit_errors\u001b[0m \u001b[1;33m=\u001b[0m \u001b[0mnp\u001b[0m\u001b[1;33m.\u001b[0m\u001b[0mpolyfit\u001b[0m\u001b[1;33m(\u001b[0m\u001b[0mch\u001b[0m\u001b[1;33m,\u001b[0m \u001b[0mV\u001b[0m\u001b[1;33m,\u001b[0m \u001b[1;36m1\u001b[0m\u001b[1;33m,\u001b[0m \u001b[0mcov\u001b[0m\u001b[1;33m=\u001b[0m\u001b[1;32mTrue\u001b[0m\u001b[1;33m,\u001b[0m \u001b[0mw\u001b[0m\u001b[1;33m=\u001b[0m\u001b[0my_weights\u001b[0m\u001b[1;33m)\u001b[0m\u001b[1;33m\u001b[0m\u001b[1;33m\u001b[0m\u001b[0m\n\u001b[0;32m      5\u001b[0m \u001b[0mm_v\u001b[0m \u001b[1;33m=\u001b[0m \u001b[1;33m[\u001b[0m\u001b[0mfit_parameters\u001b[0m\u001b[1;33m[\u001b[0m\u001b[1;36m0\u001b[0m\u001b[1;33m]\u001b[0m\u001b[1;33m,\u001b[0m \u001b[0mfit_errors\u001b[0m\u001b[1;33m[\u001b[0m\u001b[1;36m0\u001b[0m\u001b[1;33m]\u001b[0m\u001b[1;33m[\u001b[0m\u001b[1;36m0\u001b[0m\u001b[1;33m]\u001b[0m\u001b[1;33m]\u001b[0m\u001b[1;33m\u001b[0m\u001b[1;33m\u001b[0m\u001b[0m\n",
      "\u001b[1;31mNameError\u001b[0m: name 'm_1' is not defined"
     ]
    }
   ],
   "source": [
    "            m_e = [m_1, 0]\n",
    "            c_e = [c_1, 0]\n",
    "            y_weights = Volt_err\n",
    "            fit_parameters, fit_errors = np.polyfit(ch, V, 1, cov=True, w=y_weights)\n",
    "            m_v = [fit_parameters[0], fit_errors[0][0]]\n",
    "            c_v = [fit_parameters[1], fit_errors[1][1]]\n",
    "\n",
    "            # relate channel number to voltage\n",
    "            def Chin_Vout(ch):\n",
    "                return fit_parameters[0] * ch + fit_parameters[1]\n",
    "\n",
    "            def function(ch):\n",
    "                return Vin_Eout(Chin_Vout(ch))\n",
    "\n",
    "            def energy_error(m_e, m_v, ch, c_v, c_e):\n",
    "                # each value is an array [value, error]\n",
    "                # c is a numpy array\n",
    "                sigma_E = 0\n",
    "                sigma_E += (m_e[0] * ch[0]) ** 2 * m_v[1] ** 2\n",
    "                sigma_E += (m_e[0] * m_v[0]) ** 2 * ch[1] ** 2\n",
    "                sigma_E += m_e[0] ** 2 * c_v[1] ** 2\n",
    "                sigma_E = np.sqrt(sigma_E)\n",
    "                return sigma_E\n",
    "\n",
    "            err_E = []\n",
    "            for counter in range(0, len(ch)):\n",
    "                err_E.append(energy_error(m_e, m_v, [ch[counter], ch_err[counter]], c_v, c_e))"
   ]
  },
  {
   "cell_type": "code",
   "execution_count": 3,
   "metadata": {},
   "outputs": [
    {
     "name": "stdout",
     "output_type": "stream",
     "text": [
      "[6.04e+28, 9.24e+28, 5e+25, 2.5e+25, 2.5e+25, \n"
     ]
    }
   ],
   "source": [
    "### density numbers\n",
    "N = [6.04E28,\n",
    "9.24E28,\n",
    "0.005E28,\n",
    "0.0025E28,\n",
    "0.0025E28]\n",
    "\n",
    "string = \"[\"\n",
    "for entry in N:\n",
    "    string += str(entry)\n",
    "    string += \", \"\n",
    "    \n",
    "print(string)"
   ]
  },
  {
   "cell_type": "code",
   "execution_count": 37,
   "metadata": {},
   "outputs": [
    {
     "data": {
      "image/png": "[encoded data removed]",
      "text/plain": [
       "<Figure size 432x288 with 1 Axes>"
      ]
     },
     "metadata": {
      "needs_background": "light"
     },
     "output_type": "display_data"
    }
   ],
   "source": [
    "import numpy as np\n",
    "import matplotlib.pyplot as plt\n",
    "\n",
    "# plot the -differential against energy\n",
    "# plot the theoretical differential against energy\n",
    "# compare find the difference\n",
    "\n",
    "I = 41.8\n",
    "N = 0.0025E28\n",
    "\n",
    "distance = [0.00215, 0.00406, 0.00515, 0.00663, 0.0078, 0.00936, 0.01083, 0.01214, 0.01365, 0.01494,\n",
    "            0.01665, 0.01793, 0.01935, 0.01992, 0.02078, 0.02149, 0.03059, 0.04397, 0.05891, 0.07058, 0.08652,\n",
    "            0.10004, 0.11469, 0.12736, 0.14372, 0.14942, 0.15368, 0.15653, 0.0222, 0.05094, 0.06546, 0.08652,\n",
    "            0.10744, 0.12736, 0.1608]  # in meters\n",
    "distance = np.array(distance)\n",
    "\n",
    "energy_loss = [0.01073, 0.05502, 0.06813, 0.09902, 0.11924, 0.16048, 0.1808, 0.19798, 0.2251, 0.24806,\n",
    "               0.27814, 0.30587, 0.34204, 0.36358, 0.37598, 0.39193, 0.52889, 0.80392, 1.11339, 1.36902, 1.77592,\n",
    "               2.09536, 2.49403, 3.01951, 3.63866, 3.84958, 4.05989, 4.19258, 0.40859, 0.95246, 1.26945, 1.77592,\n",
    "               2.35413, 3.01951, 4.29571]\n",
    "energy_loss = np.array(energy_loss)\n",
    "energy = 4.77 - energy_loss\n",
    "\n",
    "# both are positive\n",
    "energy_loss_differential = [17.39843231, 17.72860832, 17.8958057, 18.09804591, 18.23764639,\n",
    "     18.39577619, 18.51530772, 18.59754594, 18.6637039, 18.69571179,\n",
    "     18.70294513, 18.68180322, 18.63140908, 18.60313111, 18.55166015,\n",
    "     18.50112872, 17.18422636, 12.75768295, 3.60346146, -7.37015153,\n",
    "     -29.18325443, -55.35626597, -93.6206528, -136.77044346, -209.19692368,\n",
    "     -239.53023239, -264.10622509, -281.50333573, 18.44327125, 9.10010865,\n",
    "     -2.09308477, -29.18325443, -73.26435609, -136.77044346, -309.06395831]\n",
    "\n",
    "energy_differential = [-17.39843223, -17.72860778, -17.89580461, -18.09804358, -18.2376426,\n",
    " -18.39576963, -18.51529756, -18.59753162, -18.66368355, -18.69568511,\n",
    " -18.70290821, -18.6817571 , -18.63135112, -18.60306788, -18.55158837,\n",
    " -18.50104932, -17.18399736, -12.75700287,  -3.60182594,   7.3729643,\n",
    "  29.18843574,  55.36427557,  93.63272167, 136.78697027, 209.22067248,\n",
    " 239.5569204 , 264.13526144, 281.53401766, -18.44318372,  -9.09905118,\n",
    "   2.09532875,  29.18843574,  73.27427784, 136.78697027, 309.09722029]\n",
    "\n",
    "energy_loss_differential = np.array(energy_loss_differential)\n",
    "energy_differential = np.array(energy_differential)\n",
    "\n",
    "def function3(x):\n",
    "        # the theoretical function for obtaining the range\n",
    "        # returns POSITIVE dE/dx\n",
    "        return -3.801*(N*2/x) * (np.log(np.abs(x)) + 6.307 - np.log(I)) * 1E-25 # MeV m^-1\n",
    "\n",
    "energy_model = function3(energy)\n",
    "    \n",
    "plt.plot(energy_loss, energy_loss_differential,\"+\",label=\"energy loss exp\")\n",
    "plt.plot(energy, energy_differential,\"+\", label=\"energy exp\")\n",
    "plt.plot(energy_loss, energy_model, \"+\", label=\"energy theory\")\n",
    "plt.legend()\n",
    "plt.show()\n"
   ]
  },
  {
   "cell_type": "code",
   "execution_count": 12,
   "metadata": {},
   "outputs": [
    {
     "name": "stdout",
     "output_type": "stream",
     "text": [
      "[  17.39843231   17.72860832   17.8958057    18.09804591   18.23764639\n",
      "   18.39577619   18.51530772   18.59754594   18.6637039    18.69571179\n",
      "   18.70294513   18.68180322   18.63140908   18.60313111   18.55166015\n",
      "   18.50112872   17.18422636   12.75768295    3.60346146   -7.37015153\n",
      "  -29.18325443  -55.35626597  -93.6206528  -136.77044346 -209.19692368\n",
      " -239.53023239 -264.10622509 -281.50333573   18.44327125    9.10010865\n",
      "   -2.09308477  -29.18325443  -73.26435609 -136.77044346 -309.06395831]\n"
     ]
    }
   ],
   "source": [
    "# energy loss differential\n",
    "a = [-0.01763, 0.01314]\n",
    "b = [16.97025, 1.88807]\n",
    "c = [106.52984, 81.56778]\n",
    "d = [-2155.39018, 1397.72986]\n",
    "e = [20993.39666, 10102.44543]\n",
    "f = [-57770.64359, 25820.20065]\n",
    "\n",
    "function = lambda b1, c1, d1, e1, f1, x1: b1 + 2 * c1 * x1 + 3 * d1 * x1 ** 2 + 4 * x1 ** 3 + 5 * f1 * x1 ** 4\n",
    "# differential\n",
    "differential = function(b[0], c[0], d[0], e[0], f[0], distance)\n",
    "print(differential)"
   ]
  },
  {
   "cell_type": "code",
   "execution_count": 13,
   "metadata": {},
   "outputs": [
    {
     "name": "stdout",
     "output_type": "stream",
     "text": [
      "[-17.39843223 -17.72860778 -17.89580461 -18.09804358 -18.2376426\n",
      " -18.39576963 -18.51529756 -18.59753162 -18.66368355 -18.69568511\n",
      " -18.70290821 -18.6817571  -18.63135112 -18.60306788 -18.55158837\n",
      " -18.50104932 -17.18399736 -12.75700287  -3.60182594   7.3729643\n",
      "  29.18843574  55.36427557  93.63272167 136.78697027 209.22067248\n",
      " 239.5569204  264.13526144 281.53401766 -18.44318372  -9.09905118\n",
      "   2.09532875  29.18843574  73.27427784 136.78697027 309.09722029]\n"
     ]
    }
   ],
   "source": [
    "# energy differential\n",
    "a = [4.78763, 0.01314]\n",
    "b = [-16.97025, 1.88807]\n",
    "c = [-106.52984, 81.56778]\n",
    "d = [2155.39018, 1397.72986]\n",
    "e = [-20993.39666, 10102.44543]\n",
    "f = [57770.64359, 25820.20065]\n",
    "\n",
    "function = lambda b1, c1, d1, e1, f1, x1: b1 + 2 * c1 * x1 + 3 * d1 * x1 ** 2 + 4 * x1 ** 3 + 5 * f1 * x1 ** 4\n",
    "# differential\n",
    "differential = function(b[0], c[0], d[0], e[0], f[0], distance)\n",
    "print(differential)\n"
   ]
  },
  {
   "cell_type": "code",
   "execution_count": null,
   "metadata": {},
   "outputs": [],
   "source": [
    "def Simpson(lower_limit, upper_limit, sub_interval, function):\n",
    "    f = function\n",
    "\n",
    "    # Implementing Simpson's 1/3\n",
    "    def simpson13(x0, xn, n):\n",
    "        # calculating step size\n",
    "        h = (xn - x0) / n\n",
    "\n",
    "        # Finding sum\n",
    "        integration = f(x0) + f(xn)\n",
    "\n",
    "        for i in range(1, n):\n",
    "            k = x0 + i * h\n",
    "\n",
    "            if i % 2 == 0:\n",
    "                integration = integration + 2 * f(k)\n",
    "            else:\n",
    "                integration = integration + 4 * f(k)\n",
    "\n",
    "        # Finding final integration value\n",
    "        integration = integration * h / 3\n",
    "\n",
    "        return integration\n",
    "\n",
    "    # Input section\n",
    "    # Call trapezoidal() method and get result\n",
    "    result = simpson13(lower_limit, upper_limit, sub_interval)\n",
    "    print(\"Integration result by Simpson's 1/3 method is: {0}\".format(result))\n",
    "    return result\n",
    "\n",
    "function = function_en\n",
    "\n",
    "ranges_1 = []\n",
    "for entry in energy:\n",
    "    #calculating the energy ranges for the energy differential\n",
    "    temp = Simpson(entry, 4.77, 10000,function)\n"
   ]
  }
 ],
 "metadata": {
  "kernelspec": {
   "display_name": "Python 3",
   "language": "python",
   "name": "python3"
  },
  "language_info": {
   "codemirror_mode": {
    "name": "ipython",
    "version": 3
   },
   "file_extension": ".py",
   "mimetype": "text/x-python",
   "name": "python",
   "nbconvert_exporter": "python",
   "pygments_lexer": "ipython3",
   "version": "3.8.3"
  }
 },
 "nbformat": 4,
 "nbformat_minor": 4
}
