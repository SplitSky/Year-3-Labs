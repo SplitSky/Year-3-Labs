{
 "cells": [
  {
   "cell_type": "markdown",
   "metadata": {},
   "source": [
    "# Analysis for Helium 2\n",
    "This analysis involves plotting the different graphs required along with finding the ranges plot and using a fitting algorithm to get the value of I."
   ]
  },
  {
   "cell_type": "code",
   "execution_count": 1,
   "metadata": {},
   "outputs": [],
   "source": [
    "import numpy as np\n",
    "import matplotlib.pyplot as plt\n",
    "Z = 2\n",
    "# density numbers\n",
    "density_N = [6.04e+28, # Aluminium-27\n",
    "             9.24e+28, # Nickel-58\n",
    "             5e+25,    # Nitrogen-14\n",
    "             2.5e+25,  # Argon-14\n",
    "             2.5e+25]  # Helium-4\n"
   ]
  },
  {
   "cell_type": "code",
   "execution_count": 8,
   "metadata": {},
   "outputs": [
    {
     "data": {
      "image/png": "[encoded data removed]",
      "text/plain": [
       "<Figure size 432x288 with 1 Axes>"
      ]
     },
     "metadata": {
      "needs_background": "light"
     },
     "output_type": "display_data"
    }
   ],
   "source": [
    "I = 41.8 # the theoretical value\n",
    "N = density_N[4]\n",
    "\n",
    "distance = [0.00215, 0.00406, 0.00515, 0.00663, 0.0078, 0.00936, 0.01083, 0.01214, 0.01365, 0.01494,\n",
    "            0.01665, 0.01793, 0.01935, 0.01992, 0.02078, 0.02149, 0.03059, 0.04397, 0.05891, 0.07058, 0.08652,\n",
    "            0.10004, 0.11469, 0.12736, 0.14372, 0.14942, 0.15368, 0.15653, 0.0222, 0.05094, 0.06546, 0.08652,\n",
    "            0.10744, 0.12736, 0.1608]  # in meters\n",
    "distance = np.array(distance)\n",
    "\n",
    "energy_loss = [0.01073, 0.05502, 0.06813, 0.09902, 0.11924, 0.16048, 0.1808, 0.19798, 0.2251, 0.24806,\n",
    "               0.27814, 0.30587, 0.34204, 0.36358, 0.37598, 0.39193, 0.52889, 0.80392, 1.11339, 1.36902, 1.77592,\n",
    "               2.09536, 2.49403, 3.01951, 3.63866, 3.84958, 4.05989, 4.19258, 0.40859, 0.95246, 1.26945, 1.77592,\n",
    "               2.35413, 3.01951, 4.29571]\n",
    "energy_loss = np.array(energy_loss)\n",
    "energy = 4.77 - energy_loss\n",
    "\n",
    "energy_differential = [-17.39843223, -17.72860778, -17.89580461, -18.09804358, -18.2376426,\n",
    " -18.39576963, -18.51529756, -18.59753162, -18.66368355, -18.69568511,\n",
    " -18.70290821, -18.6817571 , -18.63135112, -18.60306788, -18.55158837,\n",
    " -18.50104932, -17.18399736, -12.75700287,  -3.60182594,   7.3729643,\n",
    "  29.18843574,  55.36427557,  93.63272167, 136.78697027, 209.22067248,\n",
    " 239.5569204 , 264.13526144, 281.53401766, -18.44318372,  -9.09905118,\n",
    "   2.09532875,  29.18843574,  73.27427784, 136.78697027, 309.09722029]\n",
    "\n",
    "energy_differential = np.array(energy_differential)\n",
    "\n",
    "I = 0.05\n",
    "\n",
    "def function3(x):\n",
    "        # the theoretical function for obtaining the range\n",
    "        # returns POSITIVE dE/dx\n",
    "        return -3.801*(N*2/x) * (np.log(np.abs(x)) + 6.307 - np.log(I)) * 1E-25 # MeV m^-1\n",
    "\n",
    "\n",
    "energy_model = function3(energy)\n",
    "\n",
    "plt.plot(energy, energy_differential,\"+\", label=\"Experimental data\")\n",
    "plt.plot(energy, -1*energy_model, \"+\", label=\"Theoretical data\")\n",
    "plt.xlabel(\"Energy/ MeV\")\n",
    "plt.ylabel(\"-dE/dx /MeVm^-1\")\n",
    "plt.legend()\n",
    "plt.show()\n",
    "\n",
    "\n"
   ]
  },
  {
   "cell_type": "markdown",
   "metadata": {},
   "source": [
    "# Integrating the range of theoretical model for Helium data set 2"
   ]
  },
  {
   "cell_type": "code",
   "execution_count": null,
   "metadata": {},
   "outputs": [],
   "source": []
  }
 ],
 "metadata": {
  "kernelspec": {
   "display_name": "Python 3",
   "language": "python",
   "name": "python3"
  },
  "language_info": {
   "codemirror_mode": {
    "name": "ipython",
    "version": 3
   },
   "file_extension": ".py",
   "mimetype": "text/x-python",
   "name": "python",
   "nbconvert_exporter": "python",
   "pygments_lexer": "ipython3",
   "version": "3.8.3"
  }
 },
 "nbformat": 4,
 "nbformat_minor": 4
}
