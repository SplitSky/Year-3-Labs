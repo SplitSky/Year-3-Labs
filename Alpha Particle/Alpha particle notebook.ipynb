{
 "cells": [
  {
   "cell_type": "code",
   "execution_count": 14,
   "metadata": {},
   "outputs": [
    {
     "name": "stdout",
     "output_type": "stream",
     "text": [
      "[0.35, 0.35, 0.35, 0.35, 0.35, 0.35, 0.35, 0.35, 0.35, 0.35, 0.35, 0.35, 0.35, 0.35, 0.35, 0.35, 0.35, 0.35, 0.35, 0.35, 0.35, 0.35]\n"
     ]
    }
   ],
   "source": [
    "ch = [0.35,\n",
    "0.35,\n",
    "0.35,\n",
    "0.35,\n",
    "0.35,\n",
    "0.35,\n",
    "0.35,\n",
    "0.35,\n",
    "0.35,\n",
    "0.35,\n",
    "0.35,\n",
    "0.35,\n",
    "0.35,\n",
    "0.35,\n",
    "0.35,\n",
    "0.35,\n",
    "0.35,\n",
    "0.35,\n",
    "0.35,\n",
    "0.35,\n",
    "0.35,\n",
    "0.35]\n",
    "print(ch)"
   ]
  },
  {
   "cell_type": "code",
   "execution_count": 20,
   "metadata": {},
   "outputs": [
    {
     "data": {
      "image/png": "[encoded data removed]",
      "text/plain": [
       "<Figure size 432x288 with 1 Axes>"
      ]
     },
     "metadata": {
      "needs_background": "light"
     },
     "output_type": "display_data"
    }
   ],
   "source": [
    "import numpy as np\n",
    "import matplotlib.pyplot as plt\n",
    "# calibration for materials\n",
    "\n",
    "V = [88.8, 88.8, 104, 10.3, 5.72, 95.2, 85.6, 77.6, 68, 57.6, 47.6, 37, 26.6, 15.9, 5.32, 10.7, 21.4, 31.6, 42.4, 52.4, 62.4, 72.4]\n",
    "E = [5.8, 0]\n",
    "ch = [880.62, 880.52, 880.64, 84.53, 47.86, 806.3, 729.72, 652.29, 570.34, 486.16, 400.41, 312.37, 224.12, 134.76, 46.72, 89.56, 178.66, 267.57, 355.56, 442.22, 527.39, 610.54]\n",
    "Volt_err = [0.35, 0.35, 0.35, 0.35, 0.35, 0.35, 0.35, 0.35, 0.35, 0.35, 0.35, 0.35, 0.35, 0.35, 0.35, 0.35, 0.35, 0.35, 0.35, 0.35, 0.35, 0.35]\n",
    "\n",
    "dif_V =  88.8 - 0.304\n",
    "dif_E = 5.8 # MeV\n",
    "m_1 = dif_E / dif_V\n",
    "c_1 = m_1*0.304 * -1\n",
    "\n",
    "\n",
    "#m_1 = 5.8/880.62\n",
    "#y = np.array(ch)\n",
    "#y = ch * k # scale with k\n",
    "\n",
    "# relate voltage to energy\n",
    "def Vin_Eout(V): # assuming the intercept is at (0,0)\n",
    "    return m_1*V\n",
    "\n",
    "# relate channel number to voltage\n",
    "def Chin_Vout(ch):\n",
    "    y_weights = Volt_err\n",
    "    fit_parameters, fit_errors = np.polyfit(ch, V, 1, cov=True, w=y_weights)\n",
    "    return fit_parameters[0]*ch + fit_parameters[1]\n",
    "\n",
    "def function(ch):\n",
    "    return Vin_Eout(Chin_Vout(ch))\n",
    "\n",
    "x = np.array(ch)\n",
    "y = function(x)\n",
    "plt.plot(x,y,\"b+\")\n",
    "plt.show()\n",
    "    \n",
    "    "
   ]
  },
  {
   "cell_type": "code",
   "execution_count": 2,
   "metadata": {},
   "outputs": [
    {
     "data": {
      "image/png": "[encoded data removed]",
      "text/plain": [
       "<Figure size 432x288 with 1 Axes>"
      ]
     },
     "metadata": {
      "needs_background": "light"
     },
     "output_type": "display_data"
    }
   ],
   "source": [
    "import numpy as np\n",
    "import matplotlib.pyplot as plt\n",
    "# calibration for gases\n",
    "\n",
    "V = [42.4, 50, 64, 30.8, 7.92, 6.8, 55.6, 49.6, 42.8, 34.8, 27.4, 13.8, 64, 52.8, 46.8, 38.8, 31, 0.304]\n",
    "E = [4.77, 0]\n",
    "ch = [439.7, 459.8, 440.45, 220.5, 56.14, 44.45, 399.28, 350.36, 300.7, 249.5, 197.62, 100.07, 458.83, 378.18, 333.96, 271.38, 221.4, 0]\n",
    "Volt_err = [3, 3, 1, 1, 1, 0.4, 1, 1, 1, 0.5, 0.5, 0.4, 1, 1, 1, 1, 1, 0.2]\n",
    "\n",
    "dif_V =  0.5*(42.4+50) - 0.304\n",
    "dif_E = 4.77 # MeV\n",
    "m_1 = dif_E / dif_V\n",
    "c_1 = m_1*0.304 * -1\n",
    "\n",
    "\n",
    "# relate voltage to energy\n",
    "def Vin_Eout(V):\n",
    "    return m_1*V + c_1\n",
    "\n",
    "# relate channel number to voltage\n",
    "def Chin_Vout(ch):\n",
    "    #y_weights = Volt_err\n",
    "    #fit_parameters, fit_errors = np.polyfit(ch, V, 1, cov=True, w=y_weights)\n",
    "    fit_parameters = [0.10222,0.25317]\n",
    "    fit_errors = [[0.15295,\"no\"],[\"no\",8.62475E-4]]\n",
    "    return fit_parameters[0]*ch + fit_parameters[1]\n",
    "\n",
    "def function(ch):\n",
    "    return Vin_Eout(Chin_Vout(ch))\n",
    "\n",
    "x = np.array(ch)\n",
    "y = function(x)\n",
    "plt.errorbars(x,y,)\n",
    "plt.plot(x,y,\"b+\")\n",
    "plt.show()\n",
    "\n",
    "k_1 = m_"
   ]
  },
  {
   "cell_type": "code",
   "execution_count": null,
   "metadata": {},
   "outputs": [],
   "source": []
  },
  {
   "cell_type": "code",
   "execution_count": 1,
   "metadata": {},
   "outputs": [],
   "source": [
    "import numpy as np\n",
    "%matplotlib inline\n",
    "import matplotlib.pyplot as plt\n",
    "from matplotlib import rc\n",
    "import matplotlib.pylab as pylab\n",
    "import ipywidgets as wg\n",
    "from IPython.display import display\n"
   ]
  },
  {
   "cell_type": "code",
   "execution_count": 1,
   "metadata": {},
   "outputs": [
    {
     "ename": "NameError",
     "evalue": "name 'wg' is not defined",
     "output_type": "error",
     "traceback": [
      "\u001b[1;31m---------------------------------------------------------------------------\u001b[0m",
      "\u001b[1;31mNameError\u001b[0m                                 Traceback (most recent call last)",
      "\u001b[1;32m<ipython-input-1-acc782f8aa92>\u001b[0m in \u001b[0;36m<module>\u001b[1;34m\u001b[0m\n\u001b[0;32m     21\u001b[0m \u001b[1;33m\u001b[0m\u001b[0m\n\u001b[0;32m     22\u001b[0m \u001b[1;31m# render\u001b[0m\u001b[1;33m\u001b[0m\u001b[1;33m\u001b[0m\u001b[1;33m\u001b[0m\u001b[0m\n\u001b[1;32m---> 23\u001b[1;33m \u001b[0mv1\u001b[0m\u001b[1;33m=\u001b[0m\u001b[0mwg\u001b[0m\u001b[1;33m.\u001b[0m\u001b[0mFloatSlider\u001b[0m\u001b[1;33m(\u001b[0m\u001b[0mdescription\u001b[0m\u001b[1;33m=\u001b[0m\u001b[1;34m'Vsd:'\u001b[0m\u001b[1;33m,\u001b[0m\u001b[0mmin\u001b[0m\u001b[1;33m=\u001b[0m\u001b[1;36m0.0001\u001b[0m\u001b[1;33m,\u001b[0m\u001b[0mmax\u001b[0m\u001b[1;33m=\u001b[0m\u001b[1;36m10\u001b[0m\u001b[1;33m,\u001b[0m\u001b[0mstep\u001b[0m\u001b[1;33m=\u001b[0m\u001b[1;36m0.0001\u001b[0m\u001b[1;33m)\u001b[0m\u001b[1;33m\u001b[0m\u001b[1;33m\u001b[0m\u001b[0m\n\u001b[0m\u001b[0;32m     24\u001b[0m \u001b[0mwg\u001b[0m\u001b[1;33m.\u001b[0m\u001b[0minteract\u001b[0m\u001b[1;33m(\u001b[0m\u001b[0mfitting_I\u001b[0m\u001b[1;33m,\u001b[0m\u001b[0mI\u001b[0m\u001b[1;33m=\u001b[0m\u001b[0mv1\u001b[0m\u001b[1;33m)\u001b[0m\u001b[1;33m\u001b[0m\u001b[1;33m\u001b[0m\u001b[0m\n",
      "\u001b[1;31mNameError\u001b[0m: name 'wg' is not defined"
     ]
    }
   ],
   "source": [
    "def fitting_I(I):\n",
    "    function = lambda N, Z, E, I: -3.801 * (N * Z / E) * (np.log(E) + 6.307 - np.log(I))  * 10 ** (12) * 2 # eV m^-1\n",
    "    x = [783460.3621472,  2391981.14946581,3074322.64249274 ,5185754.38207934,3716373.49497903,5174057.09934174,3670523.03486558,4283836.11865084\n",
    "         ,6084784.42754794 ,5647580.43386772, 4751871.83905301 ,6495055.78875207,\n",
    "          798695.71188569 ,2420357.89092185 ,3115263.13207435 ,1685017.59833072,\n",
    "         3715795.85138705, 5201278.55361382, 3684025.45382812 ,4284919.2003858,\n",
    "         6082112.82593503, 5651407.3226646 , 4743134.97972431, 6487474.21660732]\n",
    "    y = [-8.11346511e+08, -5.90457074e+08, -5.13473288e+08, -6.89748149e+08,\n",
    "         -4.58796790e+08, -4.28611024e+08, -4.58796790e+08, -4.26427580e+08,\n",
    "         -5.20023622e+08, -4.63163679e+08, -4.16365658e+08, -5.99190852e+08,\n",
    "         -8.11346511e+08, -5.90457074e+08, -5.13473288e+08, -6.89748149e+08,\n",
    "         -4.58796790e+08, -4.28611024e+08, -4.58796790e+08, -4.26427580e+08,\n",
    "         -5.20023622e+08, -4.63163679e+08, -4.16365658e+08, -5.99190852e+08]\n",
    "    x=np.array(x)\n",
    "    y=np.array(y)\n",
    "    plt.plot(x,y,\"+\",label=\"data\")\n",
    "    plt.plot(x,function(4,2,x,I),\"+\",label=\"model\")\n",
    "    plt.legend()\n",
    "    plt.show()\n",
    "    \n",
    "\n",
    "# render\n",
    "v1=wg.FloatSlider(description='Vsd:',min=0.0001,max=10,step=0.0001)\n",
    "wg.interact(fitting_I,I=v1)"
   ]
  },
  {
   "cell_type": "code",
   "execution_count": 8,
   "metadata": {},
   "outputs": [
    {
     "name": "stdout",
     "output_type": "stream",
     "text": [
      "[5.18016, 3.70319, 3.07666, 2.48712, 1.14866, 2.52922, 1.96607, 0.31241, 0.71386, 1.53631, -0.0643, 3.67714, 4.35234, 2.48765, 1.12366, 2.51682, 1.96507, 0.31487, 0.71035, 1.54433, -0.05734]\n"
     ]
    }
   ],
   "source": [
    "x = [5.18016,\n",
    "3.70319,\n",
    "3.07666,\n",
    "2.48712,\n",
    "1.14866,\n",
    "2.52922,\n",
    "1.96607,\n",
    "0.31241,\n",
    "0.71386,\n",
    "1.53631,\n",
    "-0.0643,\n",
    "3.67714,\n",
    "4.35234,\n",
    "2.48765,\n",
    "1.12366,\n",
    "2.51682,\n",
    "1.96507,\n",
    "0.31487,\n",
    "0.71035,\n",
    "1.54433,\n",
    "-0.05734]\n",
    "print(x)"
   ]
  },
  {
   "cell_type": "code",
   "execution_count": null,
   "metadata": {},
   "outputs": [],
   "source": []
  }
 ],
 "metadata": {
  "kernelspec": {
   "display_name": "Python 3",
   "language": "python",
   "name": "python3"
  },
  "language_info": {
   "codemirror_mode": {
    "name": "ipython",
    "version": 3
   },
   "file_extension": ".py",
   "mimetype": "text/x-python",
   "name": "python",
   "nbconvert_exporter": "python",
   "pygments_lexer": "ipython3",
   "version": "3.8.3"
  }
 },
 "nbformat": 4,
 "nbformat_minor": 4
}
