{
 "cells": [
  {
   "cell_type": "code",
   "execution_count": 14,
   "metadata": {},
   "outputs": [
    {
     "name": "stdout",
     "output_type": "stream",
     "text": [
      "[0.35, 0.35, 0.35, 0.35, 0.35, 0.35, 0.35, 0.35, 0.35, 0.35, 0.35, 0.35, 0.35, 0.35, 0.35, 0.35, 0.35, 0.35, 0.35, 0.35, 0.35, 0.35]\n"
     ]
    }
   ],
   "source": [
    "ch = [0.35,\n",
    "0.35,\n",
    "0.35,\n",
    "0.35,\n",
    "0.35,\n",
    "0.35,\n",
    "0.35,\n",
    "0.35,\n",
    "0.35,\n",
    "0.35,\n",
    "0.35,\n",
    "0.35,\n",
    "0.35,\n",
    "0.35,\n",
    "0.35,\n",
    "0.35,\n",
    "0.35,\n",
    "0.35,\n",
    "0.35,\n",
    "0.35,\n",
    "0.35,\n",
    "0.35]\n",
    "print(ch)"
   ]
  },
  {
   "cell_type": "code",
   "execution_count": 20,
   "metadata": {},
   "outputs": [
    {
     "data": {
      "image/png": "[encoded data removed]",
      "text/plain": [
       "<Figure size 432x288 with 1 Axes>"
      ]
     },
     "metadata": {
      "needs_background": "light"
     },
     "output_type": "display_data"
    }
   ],
   "source": [
    "import numpy as np\n",
    "import matplotlib.pyplot as plt\n",
    "# calibration for materials\n",
    "\n",
    "V = [88.8, 88.8, 104, 10.3, 5.72, 95.2, 85.6, 77.6, 68, 57.6, 47.6, 37, 26.6, 15.9, 5.32, 10.7, 21.4, 31.6, 42.4, 52.4, 62.4, 72.4]\n",
    "E = [5.8, 0]\n",
    "ch = [880.62, 880.52, 880.64, 84.53, 47.86, 806.3, 729.72, 652.29, 570.34, 486.16, 400.41, 312.37, 224.12, 134.76, 46.72, 89.56, 178.66, 267.57, 355.56, 442.22, 527.39, 610.54]\n",
    "Volt_err = [0.35, 0.35, 0.35, 0.35, 0.35, 0.35, 0.35, 0.35, 0.35, 0.35, 0.35, 0.35, 0.35, 0.35, 0.35, 0.35, 0.35, 0.35, 0.35, 0.35, 0.35, 0.35]\n",
    "\n",
    "dif_V =  88.8 - 0.304\n",
    "dif_E = 5.8 # MeV\n",
    "m_1 = dif_E / dif_V\n",
    "c_1 = m_1*0.304 * -1\n",
    "\n",
    "\n",
    "#m_1 = 5.8/880.62\n",
    "#y = np.array(ch)\n",
    "#y = ch * k # scale with k\n",
    "\n",
    "# relate voltage to energy\n",
    "def Vin_Eout(V): # assuming the intercept is at (0,0)\n",
    "    return m_1*V\n",
    "\n",
    "# relate channel number to voltage\n",
    "def Chin_Vout(ch):\n",
    "    y_weights = Volt_err\n",
    "    fit_parameters, fit_errors = np.polyfit(ch, V, 1, cov=True, w=y_weights)\n",
    "    return fit_parameters[0]*ch + fit_parameters[1]\n",
    "\n",
    "def function(ch):\n",
    "    return Vin_Eout(Chin_Vout(ch))\n",
    "\n",
    "x = np.array(ch)\n",
    "y = function(x)\n",
    "plt.plot(x,y,\"b+\")\n",
    "plt.show()\n",
    "    \n",
    "    "
   ]
  },
  {
   "cell_type": "code",
   "execution_count": 21,
   "metadata": {},
   "outputs": [
    {
     "data": {
      "image/png": "[encoded data removed]",
      "text/plain": [
       "<Figure size 432x288 with 1 Axes>"
      ]
     },
     "metadata": {
      "needs_background": "light"
     },
     "output_type": "display_data"
    }
   ],
   "source": [
    "import numpy as np\n",
    "import matplotlib.pyplot as plt\n",
    "# calibration for gases\n",
    "\n",
    "V = [42.4, 50, 64, 30.8, 7.92, 6.8, 55.6, 49.6, 42.8, 34.8, 27.4, 13.8, 64, 52.8, 46.8, 38.8, 31, 0.304]\n",
    "E = [4.77, 0]\n",
    "ch = [439.7, 459.8, 440.45, 220.5, 56.14, 44.45, 399.28, 350.36, 300.7, 249.5, 197.62, 100.07, 458.83, 378.18, 333.96, 271.38, 221.4, 0]\n",
    "Volt_err = [3, 3, 1, 1, 1, 0.4, 1, 1, 1, 0.5, 0.5, 0.4, 1, 1, 1, 1, 1, 0.2]\n",
    "\n",
    "dif_V =  0.5*(42.4+50) - 0.304\n",
    "dif_E = 4.77 # MeV\n",
    "m_1 = dif_E / dif_V\n",
    "c_1 = m_1*0.304 * -1\n",
    "\n",
    "\n",
    "# relate voltage to energy\n",
    "def Vin_Eout(V):\n",
    "    return m_1*V + c_1\n",
    "\n",
    "# relate channel number to voltage\n",
    "def Chin_Vout(ch):\n",
    "    y_weights = Volt_err\n",
    "    fit_parameters, fit_errors = np.polyfit(ch, V, 1, cov=True, w=y_weights)\n",
    "    return fit_parameters[0]*ch + fit_parameters[1]\n",
    "\n",
    "def function(ch):\n",
    "    return Vin_Eout(Chin_Vout(ch))\n",
    "\n",
    "x = np.array(ch)\n",
    "y = function(x)\n",
    "plt.plot(x,y,\"b+\")\n",
    "plt.show()"
   ]
  },
  {
   "cell_type": "code",
   "execution_count": null,
   "metadata": {},
   "outputs": [],
   "source": []
  }
 ],
 "metadata": {
  "kernelspec": {
   "display_name": "Python 3",
   "language": "python",
   "name": "python3"
  },
  "language_info": {
   "codemirror_mode": {
    "name": "ipython",
    "version": 3
   },
   "file_extension": ".py",
   "mimetype": "text/x-python",
   "name": "python",
   "nbconvert_exporter": "python",
   "pygments_lexer": "ipython3",
   "version": "3.8.3"
  }
 },
 "nbformat": 4,
 "nbformat_minor": 4
}
